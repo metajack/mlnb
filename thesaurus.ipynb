{
 "cells": [
  {
   "cell_type": "code",
   "execution_count": 1,
   "metadata": {},
   "outputs": [],
   "source": [
    "import csv\n",
    "import pandas as pd\n",
    "import numpy as np\n",
    "import operator"
   ]
  },
  {
   "cell_type": "code",
   "execution_count": 35,
   "metadata": {},
   "outputs": [],
   "source": [
    "def load_wordvecs(path):\n",
    "    wordframe = pd.read_table(path, sep=\" \", header=None, quoting=csv.QUOTE_NONE)\n",
    "    words = wordframe[0]\n",
    "    wordvecs = wordframe.drop(columns=0).values.T\n",
    "\n",
    "    word_index = {}\n",
    "    for idx, w in enumerate(wordframe[0]):\n",
    "        word_index[w] = idx\n",
    "        \n",
    "    word_norms = np.zeros((wordvecs.shape[1],))\n",
    "    for i in range(wordvecs.shape[1]):\n",
    "        word_norms[i] = np.linalg.norm(wordvecs[:,i])\n",
    "        \n",
    "    return words, wordvecs, word_index, word_norms"
   ]
  },
  {
   "cell_type": "code",
   "execution_count": 23,
   "metadata": {},
   "outputs": [],
   "source": [
    "words, wordvecs, word_index, word_norms = load_wordvecs(\"glove.840B.300d.txt\")"
   ]
  },
  {
   "cell_type": "code",
   "execution_count": 24,
   "metadata": {},
   "outputs": [
    {
     "name": "stdout",
     "output_type": "stream",
     "text": [
      "vocab size is 2196017\n"
     ]
    }
   ],
   "source": [
    "print(\"vocab size is\", wordvecs.shape[1])"
   ]
  },
  {
   "cell_type": "code",
   "execution_count": 58,
   "metadata": {},
   "outputs": [],
   "source": [
    "def word2vec(word):\n",
    "    idx = word_index[word]\n",
    "    return wordvecs[:,idx]\n",
    "\n",
    "def cos_sim(a, b):\n",
    "    return (np.dot(a, b) / (np.sqrt(np.dot(a, a)) * np.sqrt(np.dot(b, b))))\n",
    "\n",
    "def find_closest(wv, n):\n",
    "    sims = [(idx, cos_sim(wv, wordvecs[:,idx])) for idx in range(wordvecs.shape[1])]\n",
    "    scores = sorted(sims, key=operator.itemgetter(1, 0), reverse=True)\n",
    "    top = scores[1:n+1]\n",
    "    top_words = [(wordframe[0][i], score) for i, score in top]\n",
    "    return top_words\n",
    "\n",
    "def find_synonyms(word, n):\n",
    "    wv = word2vec(word)\n",
    "    return find_closest(wv, n)\n",
    "\n",
    "class Toplist:\n",
    "    def __init__(self, size, keyfn):\n",
    "        self.min = None\n",
    "        self.max = None\n",
    "        self.size = size\n",
    "        self.keyfn = keyfn or (lambda x: x)\n",
    "        self.items = []\n",
    "        \n",
    "    def _calc_min_max(self):\n",
    "        min_ = None\n",
    "        max_ = None\n",
    "        for i in self.items:\n",
    "            if min_ is None or self.keyfn(min_) > self.keyfn(i):\n",
    "                min_ = i\n",
    "            if max_ is None or self.keyfn(max_) < self.keyfn(i):\n",
    "                max_ = i\n",
    "        self.min = min_\n",
    "        self.max = max_\n",
    "        \n",
    "    def push(self, item):\n",
    "        if len(self.items) < self.size:\n",
    "            self.items.append(item)\n",
    "            self._calc_min_max()\n",
    "        else:\n",
    "            key = self.keyfn(item)\n",
    "            if key <= self.keyfn(self.min):\n",
    "                return\n",
    "            self.items.remove(self.min)\n",
    "            self.items.append(item)\n",
    "            self._calc_min_max()\n",
    "\n",
    "def find_word(word):\n",
    "    wi = word_index[word]\n",
    "    wv = wordvecs[:,wi]\n",
    "    wn = word_norms[wi]\n",
    "    return (wi, wv, wn)\n",
    "\n",
    "def cos_sim2(a, b):\n",
    "    return np.dot(a[1], b[1]) / (a[2] * b[2])\n",
    "\n",
    "def find_synonyms2(word, n):\n",
    "    target = find_word(word)\n",
    "    topwords = Toplist(n + 1, lambda x: x[1])\n",
    "    for i in range(wordvecs.shape[1]):\n",
    "        cand = (i, wordvecs[:,i], word_norms[i])\n",
    "        sim = cos_sim2(target, cand)\n",
    "        topwords.push((i, sim))\n",
    "    return [(words[i], s) for (i, s) in sorted(topwords.items, key=lambda x: -x[1])[1:]]    "
   ]
  },
  {
   "cell_type": "code",
   "execution_count": 30,
   "metadata": {},
   "outputs": [],
   "source": [
    "import time\n",
    "\n",
    "class benchmark:\n",
    "    def __init__(self, name, reps=1):\n",
    "        self.name = name\n",
    "        self.reps = reps\n",
    "    def __enter__(self):\n",
    "        self.start = time.perf_counter()\n",
    "    def __exit__(self, *args):\n",
    "        elapsed = time.perf_counter() - self.start\n",
    "        print(\"{}: {:0.2f}s elapsed\".format(self.name, elapsed / self.reps))\n",
    "\n",
    "test_words = ['simple', 'sad', 'happy', 'frog', 'window', 'celerity', 'table', 'acquire', 'quiet', 'spark']"
   ]
  },
  {
   "cell_type": "code",
   "execution_count": 31,
   "metadata": {},
   "outputs": [
    {
     "name": "stdout",
     "output_type": "stream",
     "text": [
      "slow way: 23.57s elapsed\n"
     ]
    }
   ],
   "source": [
    "with benchmark(\"slow way\", len(test_words[:2])):\n",
    "    for w in test_words[:2]:\n",
    "        find_synonyms(w, 15)"
   ]
  },
  {
   "cell_type": "code",
   "execution_count": 50,
   "metadata": {},
   "outputs": [
    {
     "name": "stdout",
     "output_type": "stream",
     "text": [
      "fast way: 7.76s elapsed\n"
     ]
    }
   ],
   "source": [
    "with benchmark(\"fast way\", len(test_words[:2])):\n",
    "    for w in test_words[:2]:\n",
    "        find_synonyms2(w, 15)"
   ]
  },
  {
   "cell_type": "code",
   "execution_count": 11,
   "metadata": {},
   "outputs": [
    {
     "data": {
      "text/plain": [
       "[('straightforward', 0.7598401789000422),\n",
       " ('easy', 0.7527235589305404),\n",
       " ('simplest', 0.698272448362614),\n",
       " ('basic', 0.684735295654891),\n",
       " ('simpler', 0.655042516253308),\n",
       " ('quick', 0.6546937970492188),\n",
       " ('simply', 0.6456051957769308),\n",
       " ('Simple', 0.6379334979408948),\n",
       " ('make', 0.6294584219950385),\n",
       " ('neat', 0.6270022632851301)]"
      ]
     },
     "execution_count": 11,
     "metadata": {},
     "output_type": "execute_result"
    }
   ],
   "source": [
    "find_synonyms('simple', 10)"
   ]
  },
  {
   "cell_type": "code",
   "execution_count": 62,
   "metadata": {},
   "outputs": [
    {
     "data": {
      "text/plain": [
       "[('fantastic', 0.859159579181614),\n",
       " ('lovely', 0.8388477050475734),\n",
       " ('fabulous', 0.8359376678974119),\n",
       " ('amazing', 0.8156014577622632),\n",
       " ('great', 0.8059450072940093),\n",
       " ('marvelous', 0.8023499439044454),\n",
       " ('beautiful', 0.789621965745745),\n",
       " ('delightful', 0.7839891580590513),\n",
       " ('terrific', 0.7751862496614813),\n",
       " ('gorgeous', 0.7233308378389622),\n",
       " ('wonderfully', 0.7219120388363572),\n",
       " ('awesome', 0.7182067151596502),\n",
       " ('incredible', 0.7168842503985587),\n",
       " ('nice', 0.7063791247499048),\n",
       " ('inspiring', 0.7040061156673132)]"
      ]
     },
     "execution_count": 62,
     "metadata": {},
     "output_type": "execute_result"
    }
   ],
   "source": [
    "find_synonyms2('wonderful', 15)"
   ]
  },
  {
   "cell_type": "code",
   "execution_count": 7,
   "metadata": {},
   "outputs": [],
   "source": [
    "def solve_analogy(a, b, c, n):\n",
    "    av = word2vec(a)\n",
    "    bv = word2vec(b)\n",
    "    cv = word2vec(c)\n",
    "    guess = bv - av + cv\n",
    "    return find_closest(guess, n)"
   ]
  },
  {
   "cell_type": "code",
   "execution_count": 8,
   "metadata": {},
   "outputs": [
    {
     "data": {
      "text/plain": [
       "[('queen', 0.788084429184129),\n",
       " ('prince', 0.6401077949675448),\n",
       " ('kings', 0.6208543934897165),\n",
       " ('princess', 0.6125636524073937),\n",
       " ('royal', 0.5800970791610942)]"
      ]
     },
     "execution_count": 8,
     "metadata": {},
     "output_type": "execute_result"
    }
   ],
   "source": [
    "solve_analogy('man', 'king', 'woman', 5)"
   ]
  },
  {
   "cell_type": "code",
   "execution_count": 9,
   "metadata": {},
   "outputs": [
    {
     "data": {
      "text/plain": [
       "[('leaf', 0.7391099662079963),\n",
       " ('flowers', 0.681038924905471),\n",
       " ('petals', 0.6773535497107525),\n",
       " ('petal', 0.6751669154136665),\n",
       " ('floral', 0.6213623994091386)]"
      ]
     },
     "execution_count": 9,
     "metadata": {},
     "output_type": "execute_result"
    }
   ],
   "source": [
    "solve_analogy('tree', 'leaf', 'flower', 5)"
   ]
  },
  {
   "cell_type": "code",
   "execution_count": 10,
   "metadata": {},
   "outputs": [
    {
     "data": {
      "text/plain": [
       "[('cat', 0.8533778446069687),\n",
       " ('puppy', 0.8248203189011135),\n",
       " ('kittens', 0.7661139728453403),\n",
       " ('pup', 0.7530981677990902),\n",
       " ('kitty', 0.7515497639056457)]"
      ]
     },
     "execution_count": 10,
     "metadata": {},
     "output_type": "execute_result"
    }
   ],
   "source": [
    "solve_analogy('dog', 'puppy', 'cat', 5)"
   ]
  },
  {
   "cell_type": "code",
   "execution_count": null,
   "metadata": {},
   "outputs": [],
   "source": []
  }
 ],
 "metadata": {
  "kernelspec": {
   "display_name": "Python 3",
   "language": "python",
   "name": "python3"
  },
  "language_info": {
   "codemirror_mode": {
    "name": "ipython",
    "version": 3
   },
   "file_extension": ".py",
   "mimetype": "text/x-python",
   "name": "python",
   "nbconvert_exporter": "python",
   "pygments_lexer": "ipython3",
   "version": "3.6.4"
  }
 },
 "nbformat": 4,
 "nbformat_minor": 2
}
